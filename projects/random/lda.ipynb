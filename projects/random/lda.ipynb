{
 "cells": [
  {
   "cell_type": "markdown",
   "metadata": {},
   "source": [
    "# Topic Modeling and Latent Dirichlet Allocation (LDA) in Python\n",
    "\n",
    "https://towardsdatascience.com/topic-modeling-and-latent-dirichlet-allocation-in-python-9bf156893c24"
   ]
  },
  {
   "cell_type": "code",
   "execution_count": 8,
   "metadata": {},
   "outputs": [],
   "source": [
    "import pandas as pd\n",
    "data = pd.read_csv('/Users/teresazhang/Downloads/abcnews-date-text.v8.csv', error_bad_lines=False)\n",
    "data_text = data[['headline_text']]\n",
    "data_text.reset_index(inplace=True)\n",
    "documents = data_text"
   ]
  },
  {
   "cell_type": "markdown",
   "metadata": {},
   "source": [
    "Data Pre-procesing\n",
    "- tokenization: split the text into sentences and sentences into words. lowercase the words and remove punctuation\n",
    "- remove workds have fewer than 3 characters\n",
    "- remove all stopwords\n",
    "- words are lemmatized: words in third person are changed to first person and verbs in past and future tenses are changed into present\n",
    "- words are stemmed: words are reduced to their root form"
   ]
  },
  {
   "cell_type": "code",
   "execution_count": 10,
   "metadata": {},
   "outputs": [
    {
     "name": "stdout",
     "output_type": "stream",
     "text": [
      "Collecting gensim\n",
      "\u001b[?25l  Downloading https://files.pythonhosted.org/packages/c8/3a/32a1edf4f335eba0873021a7ddb3230f05dedd2b5450960118b402ca0771/gensim-3.8.0-cp37-cp37m-macosx_10_6_intel.macosx_10_9_intel.macosx_10_9_x86_64.macosx_10_10_intel.macosx_10_10_x86_64.whl (24.7MB)\n",
      "\u001b[K    100% |████████████████████████████████| 24.7MB 1.4MB/s \n",
      "\u001b[?25hCollecting smart-open>=1.7.0 (from gensim)\n",
      "\u001b[?25l  Downloading https://files.pythonhosted.org/packages/37/c0/25d19badc495428dec6a4bf7782de617ee0246a9211af75b302a2681dea7/smart_open-1.8.4.tar.gz (63kB)\n",
      "\u001b[K    100% |████████████████████████████████| 71kB 15.0MB/s \n",
      "\u001b[?25hRequirement already satisfied: six>=1.5.0 in /Users/teresazhang/anaconda3/lib/python3.7/site-packages (from gensim) (1.12.0)\n",
      "Requirement already satisfied: numpy>=1.11.3 in /Users/teresazhang/anaconda3/lib/python3.7/site-packages (from gensim) (1.16.0)\n",
      "Requirement already satisfied: scipy>=0.18.1 in /Users/teresazhang/anaconda3/lib/python3.7/site-packages (from gensim) (1.1.0)\n",
      "Requirement already satisfied: boto>=2.32 in /Users/teresazhang/anaconda3/lib/python3.7/site-packages (from smart-open>=1.7.0->gensim) (2.49.0)\n",
      "Requirement already satisfied: requests in /Users/teresazhang/anaconda3/lib/python3.7/site-packages (from smart-open>=1.7.0->gensim) (2.21.0)\n",
      "Collecting boto3 (from smart-open>=1.7.0->gensim)\n",
      "\u001b[?25l  Downloading https://files.pythonhosted.org/packages/dd/cf/d2b386e197d2c093dfc0a4f2d8225ce8967b9c57b7c290ff61dbfe45d5a7/boto3-1.9.185-py2.py3-none-any.whl (128kB)\n",
      "\u001b[K    100% |████████████████████████████████| 133kB 16.3MB/s \n",
      "\u001b[?25hRequirement already satisfied: urllib3<1.25,>=1.21.1 in /Users/teresazhang/anaconda3/lib/python3.7/site-packages (from requests->smart-open>=1.7.0->gensim) (1.24.1)\n",
      "Requirement already satisfied: idna<2.9,>=2.5 in /Users/teresazhang/anaconda3/lib/python3.7/site-packages (from requests->smart-open>=1.7.0->gensim) (2.8)\n",
      "Requirement already satisfied: chardet<3.1.0,>=3.0.2 in /Users/teresazhang/anaconda3/lib/python3.7/site-packages (from requests->smart-open>=1.7.0->gensim) (3.0.4)\n",
      "Requirement already satisfied: certifi>=2017.4.17 in /Users/teresazhang/anaconda3/lib/python3.7/site-packages (from requests->smart-open>=1.7.0->gensim) (2019.3.9)\n",
      "Collecting s3transfer<0.3.0,>=0.2.0 (from boto3->smart-open>=1.7.0->gensim)\n",
      "\u001b[?25l  Downloading https://files.pythonhosted.org/packages/16/8a/1fc3dba0c4923c2a76e1ff0d52b305c44606da63f718d14d3231e21c51b0/s3transfer-0.2.1-py2.py3-none-any.whl (70kB)\n",
      "\u001b[K    100% |████████████████████████████████| 71kB 22.3MB/s \n",
      "\u001b[?25hCollecting botocore<1.13.0,>=1.12.185 (from boto3->smart-open>=1.7.0->gensim)\n",
      "\u001b[?25l  Downloading https://files.pythonhosted.org/packages/e7/5c/cb7545729b23410b51ad3f64c4c21d92d9f48f0a7ff5027c2d20bd8c298b/botocore-1.12.185-py2.py3-none-any.whl (5.6MB)\n",
      "\u001b[K    100% |████████████████████████████████| 5.6MB 3.7MB/s \n",
      "\u001b[?25hCollecting jmespath<1.0.0,>=0.7.1 (from boto3->smart-open>=1.7.0->gensim)\n",
      "  Downloading https://files.pythonhosted.org/packages/83/94/7179c3832a6d45b266ddb2aac329e101367fbdb11f425f13771d27f225bb/jmespath-0.9.4-py2.py3-none-any.whl\n",
      "Requirement already satisfied: python-dateutil<3.0.0,>=2.1; python_version >= \"2.7\" in /Users/teresazhang/anaconda3/lib/python3.7/site-packages (from botocore<1.13.0,>=1.12.185->boto3->smart-open>=1.7.0->gensim) (2.8.0)\n",
      "Requirement already satisfied: docutils>=0.10 in /Users/teresazhang/anaconda3/lib/python3.7/site-packages (from botocore<1.13.0,>=1.12.185->boto3->smart-open>=1.7.0->gensim) (0.14)\n",
      "Building wheels for collected packages: smart-open\n",
      "  Building wheel for smart-open (setup.py) ... \u001b[?25ldone\n",
      "\u001b[?25h  Stored in directory: /Users/teresazhang/Library/Caches/pip/wheels/5f/ea/fb/5b1a947b369724063b2617011f1540c44eb00e28c3d2ca8692\n",
      "Successfully built smart-open\n",
      "Installing collected packages: jmespath, botocore, s3transfer, boto3, smart-open, gensim\n",
      "Successfully installed boto3-1.9.185 botocore-1.12.185 gensim-3.8.0 jmespath-0.9.4 s3transfer-0.2.1 smart-open-1.8.4\n"
     ]
    }
   ],
   "source": [
    "!pip install gensim"
   ]
  },
  {
   "cell_type": "code",
   "execution_count": 12,
   "metadata": {},
   "outputs": [
    {
     "name": "stderr",
     "output_type": "stream",
     "text": [
      "[nltk_data] Downloading package wordnet to\n",
      "[nltk_data]     /Users/teresazhang/nltk_data...\n",
      "[nltk_data]   Unzipping corpora/wordnet.zip.\n"
     ]
    },
    {
     "data": {
      "text/plain": [
       "True"
      ]
     },
     "execution_count": 12,
     "metadata": {},
     "output_type": "execute_result"
    }
   ],
   "source": [
    "import gensim\n",
    "from gensim.utils import simple_preprocess\n",
    "from gensim.parsing.preprocessing import STOPWORDS\n",
    "from nltk.stem import WordNetLemmatizer, SnowballStemmer\n",
    "from nltk.stem.porter import *\n",
    "import numpy as np\n",
    "np.random.seed(2019)\n",
    "import nltk\n",
    "nltk.download('wordnet')"
   ]
  },
  {
   "cell_type": "code",
   "execution_count": 27,
   "metadata": {},
   "outputs": [],
   "source": [
    "def lemmatize_stemming(text):\n",
    "    return SnowballStemmer('english').stem(WordNetLemmatizer().lemmatize(text, pos='v'))\n",
    "def preprocess(text):\n",
    "    result = []\n",
    "    for token in simple_preprocess(text):\n",
    "        if token not in STOPWORDS and len(token) > 3:\n",
    "            result.append(lemmatize_stemming(token))\n",
    "    return result"
   ]
  },
  {
   "cell_type": "code",
   "execution_count": 30,
   "metadata": {},
   "outputs": [
    {
     "name": "stdout",
     "output_type": "stream",
     "text": [
      "['aba', 'decides', 'against', 'community', 'broadcasting', 'licence']\n",
      "['decid', 'communiti', 'broadcast', 'licenc']\n"
     ]
    }
   ],
   "source": [
    "print(documents.headline_text[0].split(' '))\n",
    "print(preprocess(documents.headline_text[0]))"
   ]
  },
  {
   "cell_type": "code",
   "execution_count": 32,
   "metadata": {},
   "outputs": [],
   "source": [
    "preprocessed_docs = documents.headline_text.apply(preprocess)"
   ]
  },
  {
   "cell_type": "code",
   "execution_count": 33,
   "metadata": {},
   "outputs": [
    {
     "data": {
      "text/plain": [
       "0     [decid, communiti, broadcast, licenc]\n",
       "1                        [wit, awar, defam]\n",
       "2    [call, infrastructur, protect, summit]\n",
       "3               [staff, aust, strike, rise]\n",
       "4      [strike, affect, australian, travel]\n",
       "Name: headline_text, dtype: object"
      ]
     },
     "execution_count": 33,
     "metadata": {},
     "output_type": "execute_result"
    }
   ],
   "source": [
    "preprocessed_docs.head()"
   ]
  },
  {
   "cell_type": "code",
   "execution_count": 34,
   "metadata": {},
   "outputs": [],
   "source": [
    "dictionary = gensim.corpora.Dictionary(preprocessed_docs)"
   ]
  },
  {
   "cell_type": "code",
   "execution_count": 37,
   "metadata": {},
   "outputs": [],
   "source": [
    "dictionary.filter_extremes(no_below = 15, no_above=0.5, keep_n=100000)"
   ]
  },
  {
   "cell_type": "code",
   "execution_count": 38,
   "metadata": {},
   "outputs": [],
   "source": [
    "bow_corpus = [dictionary.doc2bow(doc) for doc in preprocessed_docs]"
   ]
  },
  {
   "cell_type": "code",
   "execution_count": 39,
   "metadata": {},
   "outputs": [
    {
     "data": {
      "text/plain": [
       "[(0, 1), (1, 1), (2, 1), (3, 1)]"
      ]
     },
     "execution_count": 39,
     "metadata": {},
     "output_type": "execute_result"
    }
   ],
   "source": [
    "bow_corpus[0]"
   ]
  },
  {
   "cell_type": "code",
   "execution_count": 40,
   "metadata": {},
   "outputs": [
    {
     "data": {
      "text/plain": [
       "['decid', 'communiti', 'broadcast', 'licenc']"
      ]
     },
     "execution_count": 40,
     "metadata": {},
     "output_type": "execute_result"
    }
   ],
   "source": [
    "preprocessed_docs[0]"
   ]
  },
  {
   "cell_type": "code",
   "execution_count": 41,
   "metadata": {},
   "outputs": [],
   "source": [
    "from gensim import corpora, models\n",
    "tfidf = models.TfidfModel(bow_corpus)\n",
    "corpus_tfidf = tfidf[bow_corpus]"
   ]
  },
  {
   "cell_type": "markdown",
   "metadata": {},
   "source": [
    "In information retrieval, tf–idf or TFIDF, short for term frequency–inverse document frequency, is a numerical statistic that is intended to reflect how important a word is to a document in a collection or corpus.[1] It is often used as a weighting factor in searches of information retrieval, text mining, and user modeling. "
   ]
  },
  {
   "cell_type": "code",
   "execution_count": 43,
   "metadata": {},
   "outputs": [
    {
     "data": {
      "text/plain": [
       "[(0, 0.5893154583024485),\n",
       " (1, 0.3892866165028569),\n",
       " (2, 0.49651921997736453),\n",
       " (3, 0.5046106271280878)]"
      ]
     },
     "execution_count": 43,
     "metadata": {},
     "output_type": "execute_result"
    }
   ],
   "source": [
    "corpus_tfidf[0]"
   ]
  },
  {
   "cell_type": "code",
   "execution_count": 44,
   "metadata": {},
   "outputs": [],
   "source": [
    "lda_model = gensim.models.LdaModel(bow_corpus, num_topics=10, id2word=dictionary)"
   ]
  },
  {
   "cell_type": "code",
   "execution_count": 47,
   "metadata": {},
   "outputs": [
    {
     "data": {
      "text/plain": [
       "[(0,\n",
       "  '0.036*\"polic\" + 0.026*\"queensland\" + 0.023*\"death\" + 0.021*\"court\" + 0.018*\"woman\" + 0.017*\"alleg\" + 0.017*\"die\" + 0.017*\"brisban\" + 0.016*\"murder\" + 0.015*\"shoot\"'),\n",
       " (1,\n",
       "  '0.020*\"chang\" + 0.017*\"live\" + 0.017*\"state\" + 0.017*\"hous\" + 0.016*\"market\" + 0.014*\"labor\" + 0.012*\"show\" + 0.012*\"help\" + 0.012*\"share\" + 0.012*\"bank\"'),\n",
       " (2,\n",
       "  '0.033*\"year\" + 0.019*\"elect\" + 0.018*\"say\" + 0.018*\"women\" + 0.017*\"face\" + 0.017*\"north\" + 0.016*\"australia\" + 0.015*\"turnbul\" + 0.013*\"peopl\" + 0.012*\"china\"'),\n",
       " (3,\n",
       "  '0.036*\"attack\" + 0.026*\"test\" + 0.025*\"open\" + 0.017*\"take\" + 0.016*\"lose\" + 0.016*\"abus\" + 0.014*\"flood\" + 0.013*\"drug\" + 0.013*\"lead\" + 0.013*\"aborigin\"'),\n",
       " (4,\n",
       "  '0.032*\"melbourn\" + 0.025*\"donald\" + 0.022*\"coast\" + 0.018*\"dead\" + 0.015*\"win\" + 0.015*\"island\" + 0.015*\"deal\" + 0.014*\"water\" + 0.014*\"student\" + 0.014*\"polit\"'),\n",
       " (5,\n",
       "  '0.021*\"nation\" + 0.015*\"power\" + 0.015*\"tasmania\" + 0.015*\"child\" + 0.014*\"time\" + 0.013*\"say\" + 0.012*\"plan\" + 0.011*\"need\" + 0.010*\"busi\" + 0.010*\"want\"'),\n",
       " (6,\n",
       "  '0.027*\"canberra\" + 0.026*\"home\" + 0.019*\"high\" + 0.019*\"rise\" + 0.018*\"arrest\" + 0.016*\"leagu\" + 0.016*\"price\" + 0.015*\"senat\" + 0.014*\"return\" + 0.014*\"fall\"'),\n",
       " (7,\n",
       "  '0.050*\"trump\" + 0.043*\"australia\" + 0.033*\"govern\" + 0.025*\"adelaid\" + 0.013*\"final\" + 0.012*\"citi\" + 0.012*\"week\" + 0.011*\"worker\" + 0.011*\"support\" + 0.010*\"leader\"'),\n",
       " (8,\n",
       "  '0.045*\"australian\" + 0.032*\"sydney\" + 0.030*\"charg\" + 0.021*\"kill\" + 0.020*\"perth\" + 0.017*\"famili\" + 0.016*\"south\" + 0.015*\"tasmanian\" + 0.015*\"miss\" + 0.013*\"children\"'),\n",
       " (9,\n",
       "  '0.033*\"world\" + 0.024*\"warn\" + 0.020*\"health\" + 0.016*\"break\" + 0.016*\"victoria\" + 0.016*\"servic\" + 0.014*\"train\" + 0.013*\"driver\" + 0.013*\"prison\" + 0.012*\"region\"')]"
      ]
     },
     "execution_count": 47,
     "metadata": {},
     "output_type": "execute_result"
    }
   ],
   "source": [
    "lda_model.print_topics(-1)"
   ]
  },
  {
   "cell_type": "code",
   "execution_count": null,
   "metadata": {},
   "outputs": [],
   "source": []
  }
 ],
 "metadata": {
  "kernelspec": {
   "display_name": "Python 3",
   "language": "python",
   "name": "python3"
  },
  "language_info": {
   "codemirror_mode": {
    "name": "ipython",
    "version": 3
   },
   "file_extension": ".py",
   "mimetype": "text/x-python",
   "name": "python",
   "nbconvert_exporter": "python",
   "pygments_lexer": "ipython3",
   "version": "3.7.3"
  }
 },
 "nbformat": 4,
 "nbformat_minor": 2
}
