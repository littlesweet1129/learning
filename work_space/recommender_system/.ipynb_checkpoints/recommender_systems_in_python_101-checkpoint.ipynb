{
 "cells": [
  {
   "cell_type": "markdown",
   "metadata": {},
   "source": [
    "- collaborative filtering: recommend item from similar user's preferences.\n",
    "\n",
    "- content-based filtering: recommend item that are similar to those that a user liked in the past.\n",
    "\n",
    "- hybrid methods: combining collaborative filtering and content-based filtering. Better performance and overcome some common problems such as cold start and sparsity."
   ]
  },
  {
   "cell_type": "code",
   "execution_count": null,
   "metadata": {},
   "outputs": [],
   "source": [
    "import numpy as np\n",
    "import pandas as pd\n",
    "import scipy as sp\n",
    "import math\n",
    "import randofrom "
   ]
  }
 ],
 "metadata": {
  "hide_input": false,
  "kernelspec": {
   "display_name": "Python 3",
   "language": "python",
   "name": "python3"
  },
  "language_info": {
   "codemirror_mode": {
    "name": "ipython",
    "version": 3
   },
   "file_extension": ".py",
   "mimetype": "text/x-python",
   "name": "python",
   "nbconvert_exporter": "python",
   "pygments_lexer": "ipython3",
   "version": "3.6.4"
  }
 },
 "nbformat": 4,
 "nbformat_minor": 2
}
