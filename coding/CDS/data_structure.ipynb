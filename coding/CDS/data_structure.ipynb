{
 "cells": [
  {
   "cell_type": "markdown",
   "metadata": {},
   "source": [
    "https://docs.google.com/document/d/1Fun_UGBpxJIYc4HHZef87kZJBvzu8wIE33FT9xsYsbA/edit?ts=5f0a920e"
   ]
  },
  {
   "cell_type": "markdown",
   "metadata": {},
   "source": [
    "# Data Structure"
   ]
  },
  {
   "cell_type": "markdown",
   "metadata": {},
   "source": [
    "## List"
   ]
  },
  {
   "cell_type": "markdown",
   "metadata": {},
   "source": [
    "### Reverse a list"
   ]
  },
  {
   "cell_type": "code",
   "execution_count": 34,
   "metadata": {},
   "outputs": [],
   "source": [
    "l = [1, 2, 3, 4]\n",
    "\n",
    "# test cases\n",
    "# []\n",
    "# [1]\n",
    "# [1, 2, 3]"
   ]
  },
  {
   "cell_type": "code",
   "execution_count": 24,
   "metadata": {},
   "outputs": [],
   "source": [
    "# solution 1\n",
    "def reverse1(input_list):\n",
    "    l_len = len(input_list)\n",
    "    new_l = []\n",
    "    for i in range(l_len):\n",
    "        new_l.append(input_list[l_len-i-1])\n",
    "    return new_l\n",
    "\n",
    "# time complexity O(n)\n",
    "# space complexity O(n)\n"
   ]
  },
  {
   "cell_type": "code",
   "execution_count": 36,
   "metadata": {},
   "outputs": [],
   "source": [
    "# solution 2\n",
    "def reverse2(input_list):\n",
    "    l_len = len(input_list)\n",
    "    for i in range(l_len//2):\n",
    "        tmp = input_list[i]\n",
    "        input_list[i] = input_list[l_len-i-1]\n",
    "        input_list[l_len-i-1] = tmp\n",
    "\n",
    "# time complexity O(n)\n",
    "# space complexity O(1)\n",
    "    "
   ]
  },
  {
   "cell_type": "code",
   "execution_count": 39,
   "metadata": {},
   "outputs": [],
   "source": [
    "# solution 3\n",
    "def reverse3(input_list):\n",
    "    left = 0\n",
    "    right = len(input_list)-1\n",
    "    while left < right:\n",
    "        input_list[left], input_list[right] = input_list[right], input_list[left]\n",
    "        left += 1\n",
    "        right -= 1\n",
    "\n",
    "# time complexity O(n)\n",
    "# space complexity O(1)"
   ]
  },
  {
   "cell_type": "markdown",
   "metadata": {},
   "source": [
    "### Check if a list is a palindrome"
   ]
  },
  {
   "cell_type": "code",
   "execution_count": 68,
   "metadata": {},
   "outputs": [],
   "source": [
    "def is_palindrome_test():\n",
    "    cases = [([1, 2, 1], True),\n",
    "             ([1], True),\n",
    "             ([], True), \n",
    "             ([1,3,2,1], True)]\n",
    "    for case in cases:\n",
    "        try:\n",
    "            assert is_palindrome(case[0]) == case[1]\n",
    "            print(\"case success: \", case)\n",
    "        except:\n",
    "            print(\"case failed: \", case)\n",
    "\n"
   ]
  },
  {
   "cell_type": "code",
   "execution_count": 56,
   "metadata": {},
   "outputs": [],
   "source": [
    "def is_palindrome(input_list):\n",
    "    left = 0\n",
    "    right = len(input_list)-1\n",
    "    while left < right:\n",
    "        if input_list[left] != input_list[right]:\n",
    "            return False\n",
    "        left += 1\n",
    "        right -= 1\n",
    "    return True\n",
    "\n",
    "# time complexity O(n)\n",
    "# space comlexity O(1)"
   ]
  },
  {
   "cell_type": "code",
   "execution_count": 69,
   "metadata": {},
   "outputs": [
    {
     "name": "stdout",
     "output_type": "stream",
     "text": [
      "case success:  ([1, 2, 1], True)\n",
      "case success:  ([1], True)\n",
      "case success:  ([], True)\n",
      "case failed:  ([1, 3, 2, 1], True)\n"
     ]
    }
   ],
   "source": [
    "is_palindrome_test()"
   ]
  },
  {
   "cell_type": "markdown",
   "metadata": {},
   "source": [
    "## Stack"
   ]
  },
  {
   "cell_type": "markdown",
   "metadata": {},
   "source": [
    "### Validate parentheses"
   ]
  },
  {
   "cell_type": "code",
   "execution_count": 48,
   "metadata": {},
   "outputs": [],
   "source": [
    "def validate_parentheses_tests():\n",
    "    cases = [(\"a{(b)}[d]e\", True),\n",
    "             (\"a{(d})e}\", False), \n",
    "             (\"a)b{c}\", False),\n",
    "             (\"a[b]c{\", False)]\n",
    "    for case in cases:\n",
    "        try:\n",
    "            assert validate_parenthese(case[0]) == case[1]\n",
    "            print(\"test passed: \", case)\n",
    "        except Exception as e:\n",
    "            print(\"test failed: \", case, str(e))"
   ]
  },
  {
   "cell_type": "code",
   "execution_count": 51,
   "metadata": {},
   "outputs": [],
   "source": [
    "def validate_parenthese(input_string):\n",
    "    tmp = []\n",
    "    for char in input_string:\n",
    "        if char == \"}\":\n",
    "            if not tmp or tmp[-1] != \"{\":\n",
    "                return False\n",
    "            else:\n",
    "                tmp.pop()\n",
    "        if char == \"]\":\n",
    "            if not tmp or tmp[-1] != \"[\":\n",
    "                return False\n",
    "            else:\n",
    "                tmp.pop()\n",
    "        if char == \")\":\n",
    "            if not tmp or tmp[-1] != \"(\":\n",
    "                return False\n",
    "            else:\n",
    "                tmp.pop()\n",
    "        if char in (\"{\", \"[\", \"(\"):\n",
    "            tmp.append(char)\n",
    "    return not tmp\n",
    "            \n",
    "            \n",
    "            "
   ]
  },
  {
   "cell_type": "code",
   "execution_count": 52,
   "metadata": {},
   "outputs": [
    {
     "name": "stdout",
     "output_type": "stream",
     "text": [
      "test passed:  ('a{(b)}[d]e', True)\n",
      "test passed:  ('a{(d})e}', False)\n",
      "test passed:  ('a)b{c}', False)\n",
      "test passed:  ('a[b]c{', False)\n"
     ]
    }
   ],
   "source": [
    "validate_parentheses_tests()"
   ]
  },
  {
   "cell_type": "code",
   "execution_count": null,
   "metadata": {},
   "outputs": [],
   "source": []
  }
 ],
 "metadata": {
  "kernelspec": {
   "display_name": "Python 3",
   "language": "python",
   "name": "python3"
  },
  "language_info": {
   "codemirror_mode": {
    "name": "ipython",
    "version": 3
   },
   "file_extension": ".py",
   "mimetype": "text/x-python",
   "name": "python",
   "nbconvert_exporter": "python",
   "pygments_lexer": "ipython3",
   "version": "3.7.4"
  }
 },
 "nbformat": 4,
 "nbformat_minor": 4
}
