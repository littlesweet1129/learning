{
 "cells": [
  {
   "cell_type": "markdown",
   "metadata": {},
   "source": [
    "https://docs.google.com/document/d/1Fun_UGBpxJIYc4HHZef87kZJBvzu8wIE33FT9xsYsbA/edit?ts=5f0a920e"
   ]
  },
  {
   "cell_type": "markdown",
   "metadata": {},
   "source": [
    "# Data Structure"
   ]
  },
  {
   "cell_type": "markdown",
   "metadata": {},
   "source": [
    "## List"
   ]
  },
  {
   "cell_type": "markdown",
   "metadata": {},
   "source": [
    "### Reverse a list"
   ]
  },
  {
   "cell_type": "code",
   "execution_count": 34,
   "metadata": {},
   "outputs": [],
   "source": [
    "l = [1, 2, 3, 4]\n",
    "\n",
    "# test cases\n",
    "# []\n",
    "# [1]\n",
    "# [1, 2, 3]"
   ]
  },
  {
   "cell_type": "code",
   "execution_count": 24,
   "metadata": {},
   "outputs": [],
   "source": [
    "# solution 1\n",
    "def reverse1(input_list):\n",
    "    l_len = len(input_list)\n",
    "    new_l = []\n",
    "    for i in range(l_len):\n",
    "        new_l.append(input_list[l_len-i-1])\n",
    "    return new_l\n",
    "\n",
    "# time complexity O(n)\n",
    "# space complexity O(n)\n"
   ]
  },
  {
   "cell_type": "code",
   "execution_count": 36,
   "metadata": {},
   "outputs": [],
   "source": [
    "# solution 2\n",
    "def reverse2(input_list):\n",
    "    l_len = len(input_list)\n",
    "    for i in range(l_len//2):\n",
    "        tmp = input_list[i]\n",
    "        input_list[i] = input_list[l_len-i-1]\n",
    "        input_list[l_len-i-1] = tmp\n",
    "\n",
    "# time complexity O(n)\n",
    "# space complexity O(1)\n",
    "    "
   ]
  },
  {
   "cell_type": "code",
   "execution_count": 39,
   "metadata": {},
   "outputs": [],
   "source": [
    "# solution 3\n",
    "def reverse3(input_list):\n",
    "    left = 0\n",
    "    right = len(input_list)-1\n",
    "    while left < right:\n",
    "        input_list[left], input_list[right] = input_list[right], input_list[left]\n",
    "        left += 1\n",
    "        right -= 1\n",
    "\n",
    "# time complexity O(n)\n",
    "# space complexity O(1)"
   ]
  },
  {
   "cell_type": "markdown",
   "metadata": {},
   "source": [
    "### Check if a list is a palindrome"
   ]
  },
  {
   "cell_type": "code",
   "execution_count": 68,
   "metadata": {},
   "outputs": [],
   "source": [
    "def is_palindrome_test():\n",
    "    cases = [([1, 2, 1], True),\n",
    "             ([1], True),\n",
    "             ([], True), \n",
    "             ([1,3,2,1], True)]\n",
    "    for case in cases:\n",
    "        try:\n",
    "            assert is_palindrome(case[0]) == case[1]\n",
    "            print(\"case success: \", case)\n",
    "        except:\n",
    "            print(\"case failed: \", case)\n",
    "\n"
   ]
  },
  {
   "cell_type": "code",
   "execution_count": 56,
   "metadata": {},
   "outputs": [],
   "source": [
    "def is_palindrome(input_list):\n",
    "    left = 0\n",
    "    right = len(input_list)-1\n",
    "    while left < right:\n",
    "        if input_list[left] != input_list[right]:\n",
    "            return False\n",
    "        left += 1\n",
    "        right -= 1\n",
    "    return True\n",
    "\n",
    "# time complexity O(n)\n",
    "# space comlexity O(1)"
   ]
  },
  {
   "cell_type": "code",
   "execution_count": 69,
   "metadata": {},
   "outputs": [
    {
     "name": "stdout",
     "output_type": "stream",
     "text": [
      "case success:  ([1, 2, 1], True)\n",
      "case success:  ([1], True)\n",
      "case success:  ([], True)\n",
      "case failed:  ([1, 3, 2, 1], True)\n"
     ]
    }
   ],
   "source": [
    "is_palindrome_test()"
   ]
  },
  {
   "cell_type": "markdown",
   "metadata": {},
   "source": [
    "## Stack"
   ]
  },
  {
   "cell_type": "markdown",
   "metadata": {},
   "source": [
    "### Validate parentheses"
   ]
  },
  {
   "cell_type": "code",
   "execution_count": 48,
   "metadata": {},
   "outputs": [],
   "source": [
    "def validate_parentheses_tests():\n",
    "    cases = [(\"a{(b)}[d]e\", True),\n",
    "             (\"a{(d})e}\", False), \n",
    "             (\"a)b{c}\", False),\n",
    "             (\"a[b]c{\", False)]\n",
    "    for case in cases:\n",
    "        try:\n",
    "            assert validate_parenthese(case[0]) == case[1]\n",
    "            print(\"test passed: \", case)\n",
    "        except Exception as e:\n",
    "            print(\"test failed: \", case, str(e))"
   ]
  },
  {
   "cell_type": "code",
   "execution_count": 51,
   "metadata": {},
   "outputs": [],
   "source": [
    "def validate_parenthese(input_string):\n",
    "    tmp = []\n",
    "    for char in input_string:\n",
    "        if char == \"}\":\n",
    "            if not tmp or tmp[-1] != \"{\":\n",
    "                return False\n",
    "            else:\n",
    "                tmp.pop()\n",
    "        if char == \"]\":\n",
    "            if not tmp or tmp[-1] != \"[\":\n",
    "                return False\n",
    "            else:\n",
    "                tmp.pop()\n",
    "        if char == \")\":\n",
    "            if not tmp or tmp[-1] != \"(\":\n",
    "                return False\n",
    "            else:\n",
    "                tmp.pop()\n",
    "        if char in (\"{\", \"[\", \"(\"):\n",
    "            tmp.append(char)\n",
    "    return not tmp\n",
    "            \n",
    "            \n",
    "            "
   ]
  },
  {
   "cell_type": "code",
   "execution_count": 52,
   "metadata": {},
   "outputs": [
    {
     "name": "stdout",
     "output_type": "stream",
     "text": [
      "test passed:  ('a{(b)}[d]e', True)\n",
      "test passed:  ('a{(d})e}', False)\n",
      "test passed:  ('a)b{c}', False)\n",
      "test passed:  ('a[b]c{', False)\n"
     ]
    }
   ],
   "source": [
    "validate_parentheses_tests()"
   ]
  },
  {
   "cell_type": "markdown",
   "metadata": {},
   "source": [
    "## Queue"
   ]
  },
  {
   "cell_type": "markdown",
   "metadata": {},
   "source": [
    "### Pet Adoption"
   ]
  },
  {
   "cell_type": "markdown",
   "metadata": {},
   "source": [
    "Edge cases\n",
    "- return content when no pet available for given type.\n",
    "- shelter capacity"
   ]
  },
  {
   "cell_type": "code",
   "execution_count": 71,
   "metadata": {},
   "outputs": [],
   "source": [
    "from queue import Queue as que\n",
    "from enum import Enum, auto\n",
    "\n",
    "class PetType(Enum):\n",
    "    DOG = auto()\n",
    "    CAT = auto()\n",
    "    ANY = auto()\n",
    "    \n",
    "\n",
    "class PetShelter():\n",
    "    def __init__(self, capacity: int):\n",
    "        assert capacity > 0\n",
    "        self.capacity = capacity\n",
    "        self.cats = que()\n",
    "        self.dogs = que()\n",
    "        self.max_pet_num = 0\n",
    "        \n",
    "    \n",
    "    def accept(self, pet_type: PetType):\n",
    "        \"\"\"\n",
    "        return internal unique pet number.\n",
    "        \"\"\"\n",
    "        if self.cats.qsize() + self.dogs.qsize() >= self.capacity:\n",
    "            return None\n",
    "        pet_num = self.max_pet_num + 1\n",
    "        if pet_type is PetType.ANY:\n",
    "            print('specify pet type!')\n",
    "            return None\n",
    "        elif pet_type is PetType.CAT:\n",
    "            self.cats.put(pet_num)\n",
    "        else:\n",
    "            self.dogs.put(pet_num)\n",
    "        self.max_pet_num = pet_num   \n",
    "        return pet_num\n",
    "    \n",
    "    def adopt(self, pet_type: PetType):\n",
    "        \"\"\"\n",
    "        return tuple of internal unique pet number and pet type.\n",
    "        \"\"\"\n",
    "        if self.cats.empty() and self.dogs.empty():\n",
    "            return None\n",
    "        elif pet_type is PetType.CAT:\n",
    "            if self.cats.empty():\n",
    "                return None\n",
    "            pet = self.cats.get()\n",
    "        elif pet_type is PetType.DOG \n",
    "            if self.dogs.empty():\n",
    "                return None\n",
    "            pet = self.dogs.get()     \n",
    "        else:\n",
    "            if self.cats.empty():\n",
    "                pet = self.dogs.get()\n",
    "                pet_type = PetType.DOG\n",
    "            elif self.dogs.empty():\n",
    "                pet = self.cats.get()\n",
    "                pet_type = PetType.CAT\n",
    "            elif self.dogs.queue[0] < self.cats.queue[0]:\n",
    "                pet = self.dogs.get()\n",
    "                pet_type = PetType.DOG\n",
    "            else:\n",
    "                pet = self.cats.get()\n",
    "                pet_type = PetType.CAT\n",
    "        return pet, pet_type\n",
    "\n",
    "        \n",
    "        "
   ]
  },
  {
   "cell_type": "code",
   "execution_count": 69,
   "metadata": {},
   "outputs": [],
   "source": [
    "ps = PetShelter(capacity=2)"
   ]
  },
  {
   "cell_type": "code",
   "execution_count": 70,
   "metadata": {},
   "outputs": [
    {
     "data": {
      "text/plain": [
       "1"
      ]
     },
     "execution_count": 70,
     "metadata": {},
     "output_type": "execute_result"
    }
   ],
   "source": [
    "ps.accept('cat')"
   ]
  },
  {
   "cell_type": "code",
   "execution_count": 59,
   "metadata": {},
   "outputs": [
    {
     "data": {
      "text/plain": [
       "(1, 'cat')"
      ]
     },
     "execution_count": 59,
     "metadata": {},
     "output_type": "execute_result"
    }
   ],
   "source": [
    "ps.adopt('cat')"
   ]
  },
  {
   "cell_type": "code",
   "execution_count": 63,
   "metadata": {},
   "outputs": [],
   "source": [
    "ps.adopt('dg')"
   ]
  },
  {
   "cell_type": "code",
   "execution_count": 64,
   "metadata": {},
   "outputs": [
    {
     "data": {
      "text/plain": [
       "2"
      ]
     },
     "execution_count": 64,
     "metadata": {},
     "output_type": "execute_result"
    }
   ],
   "source": [
    "ps.accept('dog')"
   ]
  },
  {
   "cell_type": "code",
   "execution_count": 65,
   "metadata": {},
   "outputs": [
    {
     "data": {
      "text/plain": [
       "3"
      ]
     },
     "execution_count": 65,
     "metadata": {},
     "output_type": "execute_result"
    }
   ],
   "source": [
    "ps.accept('cat')"
   ]
  },
  {
   "cell_type": "code",
   "execution_count": 67,
   "metadata": {},
   "outputs": [
    {
     "ename": "AttributeError",
     "evalue": "'Queue' object has no attribute 'qsiez'",
     "output_type": "error",
     "traceback": [
      "\u001b[0;31m---------------------------------------------------------------------------\u001b[0m",
      "\u001b[0;31mAttributeError\u001b[0m                            Traceback (most recent call last)",
      "\u001b[0;32m<ipython-input-67-6c952dbaa20e>\u001b[0m in \u001b[0;36m<module>\u001b[0;34m\u001b[0m\n\u001b[0;32m----> 1\u001b[0;31m \u001b[0mps\u001b[0m\u001b[0;34m.\u001b[0m\u001b[0madopt\u001b[0m\u001b[0;34m(\u001b[0m\u001b[0;34m'dog'\u001b[0m\u001b[0;34m)\u001b[0m\u001b[0;34m\u001b[0m\u001b[0;34m\u001b[0m\u001b[0m\n\u001b[0m",
      "\u001b[0;32m<ipython-input-56-619581398538>\u001b[0m in \u001b[0;36madopt\u001b[0;34m(self, pet_type)\u001b[0m\n\u001b[1;32m     38\u001b[0m         \u001b[0;32melif\u001b[0m \u001b[0mpet_type\u001b[0m\u001b[0;34m.\u001b[0m\u001b[0mlower\u001b[0m\u001b[0;34m(\u001b[0m\u001b[0;34m)\u001b[0m \u001b[0;34m==\u001b[0m \u001b[0;34m'cat'\u001b[0m \u001b[0;32mand\u001b[0m \u001b[0mself\u001b[0m\u001b[0;34m.\u001b[0m\u001b[0mcats\u001b[0m\u001b[0;34m.\u001b[0m\u001b[0mqsize\u001b[0m\u001b[0;34m(\u001b[0m\u001b[0;34m)\u001b[0m \u001b[0;34m==\u001b[0m \u001b[0;36m0\u001b[0m\u001b[0;34m:\u001b[0m\u001b[0;34m\u001b[0m\u001b[0;34m\u001b[0m\u001b[0m\n\u001b[1;32m     39\u001b[0m             \u001b[0;32mreturn\u001b[0m \u001b[0;32mNone\u001b[0m\u001b[0;34m\u001b[0m\u001b[0;34m\u001b[0m\u001b[0m\n\u001b[0;32m---> 40\u001b[0;31m         \u001b[0;32melif\u001b[0m \u001b[0mpet_type\u001b[0m\u001b[0;34m.\u001b[0m\u001b[0mlower\u001b[0m\u001b[0;34m(\u001b[0m\u001b[0;34m)\u001b[0m \u001b[0;34m==\u001b[0m \u001b[0;34m'dog'\u001b[0m \u001b[0;32mand\u001b[0m \u001b[0mself\u001b[0m\u001b[0;34m.\u001b[0m\u001b[0mdogs\u001b[0m\u001b[0;34m.\u001b[0m\u001b[0mqsiez\u001b[0m\u001b[0;34m(\u001b[0m\u001b[0;34m)\u001b[0m \u001b[0;34m==\u001b[0m \u001b[0;36m0\u001b[0m\u001b[0;34m:\u001b[0m\u001b[0;34m\u001b[0m\u001b[0;34m\u001b[0m\u001b[0m\n\u001b[0m\u001b[1;32m     41\u001b[0m             \u001b[0;32mreturn\u001b[0m \u001b[0;32mNone\u001b[0m\u001b[0;34m\u001b[0m\u001b[0;34m\u001b[0m\u001b[0m\n\u001b[1;32m     42\u001b[0m         \u001b[0;32melif\u001b[0m \u001b[0mpet_type\u001b[0m\u001b[0;34m.\u001b[0m\u001b[0mlower\u001b[0m\u001b[0;34m(\u001b[0m\u001b[0;34m)\u001b[0m \u001b[0;34m==\u001b[0m \u001b[0;34m'cat'\u001b[0m \u001b[0;32mand\u001b[0m \u001b[0mself\u001b[0m\u001b[0;34m.\u001b[0m\u001b[0mcats\u001b[0m\u001b[0;34m.\u001b[0m\u001b[0mqsize\u001b[0m\u001b[0;34m(\u001b[0m\u001b[0;34m)\u001b[0m \u001b[0;34m>\u001b[0m \u001b[0;36m0\u001b[0m\u001b[0;34m:\u001b[0m\u001b[0;34m\u001b[0m\u001b[0;34m\u001b[0m\u001b[0m\n",
      "\u001b[0;31mAttributeError\u001b[0m: 'Queue' object has no attribute 'qsiez'"
     ]
    }
   ],
   "source": [
    "ps.adopt('dog')"
   ]
  },
  {
   "cell_type": "code",
   "execution_count": null,
   "metadata": {},
   "outputs": [],
   "source": []
  }
 ],
 "metadata": {
  "kernelspec": {
   "display_name": "Python 3",
   "language": "python",
   "name": "python3"
  },
  "language_info": {
   "codemirror_mode": {
    "name": "ipython",
    "version": 3
   },
   "file_extension": ".py",
   "mimetype": "text/x-python",
   "name": "python",
   "nbconvert_exporter": "python",
   "pygments_lexer": "ipython3",
   "version": "3.7.4"
  }
 },
 "nbformat": 4,
 "nbformat_minor": 4
}
