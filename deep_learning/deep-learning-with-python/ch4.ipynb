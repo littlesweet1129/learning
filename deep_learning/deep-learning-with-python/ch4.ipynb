{
 "cells": [
  {
   "cell_type": "markdown",
   "metadata": {},
   "source": [
    "## Fundamentals of Machine Learning"
   ]
  },
  {
   "cell_type": "markdown",
   "metadata": {},
   "source": [
    "### 4 branches of machine learning"
   ]
  },
  {
   "cell_type": "markdown",
   "metadata": {},
   "source": [
    "* supervised learning\n",
    "    - binary and multiclass classification\n",
    "    - scalar regression\n",
    "    - sequence generation: given a picture, predict a caption describing it.\n",
    "    - syntax tree prediction: given a sentence, predict its decomposition into a syntax tree.\n",
    "    - object detection: given a picture, draw a bouding box around certain objects inside the picture.\n",
    "    - image segmentation: given a picture, draw a pixel-level mask on a specific object.\n",
    "    \n",
    "* unsupervised learning\n",
    "    - finding interesting transformations of the input dat without the help of any targets, for data visualization, data compression or data denoising or better understand the correlations present in the data.\n",
    "    - dimensionality reduction\n",
    "    - clustering\n",
    "    \n",
    "* self-supervised learning\n",
    "    - supervised learning without human-annotated labels.\n",
    "    - autoencoders: a well-known instance where the generated targets are the input.\n",
    "    - temporally supervised learning: predict next frame, given past frames, or next work in a text, given previous words.\n",
    "    \n",
    "* reinforcement learning\n",
    "    - agent receives information about its environment and learns to choose action that will maximize some reward.\n",
    "    "
   ]
  },
  {
   "cell_type": "markdown",
   "metadata": {},
   "source": [
    "### Evaluating ML models\n",
    "\n",
    "- split the data into: training, validation and test.\n",
    "- hyper-parameter tuning on the validation\n",
    "- information leaks: hyperparameter tune leaks validation data into the model.\n",
    "- simple hold out validation\n",
    "    - train, validation, test\n",
    "    - not good with small data"
   ]
  },
  {
   "cell_type": "markdown",
   "metadata": {},
   "source": [
    "```python\n",
    "num_validation_samples = 10000\n",
    "np.random.shuffle(data)\n",
    "validation_data = data[:num_validation_samples]\n",
    "data = data[num_validation_samples:]\n",
    "training_data = data[:]\n",
    "model = get_model()\n",
    "model.train(training_data)\n",
    "validation_score = model.evaluate(validation_data)\n",
    "# model tuning\n",
    "model = get_model()\n",
    "model.train(np.concatenate([training_data, validation_data]))\n",
    "test_score = model.evaluate(test_data)\n",
    "```"
   ]
  },
  {
   "cell_type": "markdown",
   "metadata": {},
   "source": [
    "- k-fold validation\n",
    "```python\n",
    "k=4\n",
    "num_validation_samples = len(data)//4\n",
    "np.random.shuffle(data)\n",
    "validation_scores = []\n",
    "for fold in range(k):\n",
    "    validation_data = data[num_validation_sample*fold:num_validation_sample*(fold+1)]\n",
    "    training_data = data[:num_validation_sample*fold]+data[num_validation_sample*(fold+1):]\n",
    "    model = get_model()\n",
    "    model.train(training_data)\n",
    "    validation_score = model.evalluate(validation_data)\n",
    "    validation_scores.append(validation_score)\n",
    "validation_score = np.average(validation_scores)\n",
    "model = get_model()\n",
    "model.train(data)\n",
    "test_score = model.evaluate(test_data)\n",
    "```\n",
    "    "
   ]
  },
  {
   "cell_type": "markdown",
   "metadata": {},
   "source": [
    "- iterated k-fold validation with shuffling\n",
    "    - for situations in which you have relatively little data available and you nee to evaluate the model as precisely as possible\n",
    "    - applying k-fold validation multiple times, shuffling the data every time before splitting it k ways. \n",
    "    - final score is the average of the scores obtained at each run of k-fold validation. \n",
    "    \n",
    "Things to keep in mind:\n",
    "- data representation: random shuffle\n",
    "- arrow of time: do not random shuffle if tring to predict the future given the past\n",
    "- redundancy in data: ex. data points appear twice,, make sure training and validation are disjoint"
   ]
  },
  {
   "cell_type": "markdown",
   "metadata": {},
   "source": [
    "### Data preprocessng, feature engineering and feature learning"
   ]
  },
  {
   "cell_type": "markdown",
   "metadata": {},
   "source": [
    "Data preprocessing:\n",
    "- vectorization: input and targets need to be tensors of flaoting-point data\n",
    "- normalization: \n",
    "    - take small values: typically 0-1\n",
    "    - homogenous: all features take values in roughly the same range\n",
    "    - normalize each feature independently to have a mean 0 and std 1\n",
    "\n",
    "```python\n",
    "x -= x.mean(axis=0)\n",
    "x /= x.std(acis=0)\n",
    "```\n",
    "\n",
    "- handling missing values\n",
    "    - with neural network, its safe to input missing values as 0, with the condition that 0 is not already a meaningful value. The network will learn from exposure that 0 means missing.\n",
    "    - if test has missing, but training does not, model will not leaned to ignore missing values. One should artificially generate training samples with missing entries.\n",
    "- feature extraction"
   ]
  },
  {
   "cell_type": "markdown",
   "metadata": {},
   "source": [
    "### Overfitting and Underfitting"
   ]
  },
  {
   "cell_type": "markdown",
   "metadata": {},
   "source": [
    "regularization:\n",
    "- reducing the network size"
   ]
  },
  {
   "cell_type": "code",
   "execution_count": null,
   "metadata": {},
   "outputs": [],
   "source": []
  }
 ],
 "metadata": {
  "kernelspec": {
   "display_name": "Python 3",
   "language": "python",
   "name": "python3"
  },
  "language_info": {
   "codemirror_mode": {
    "name": "ipython",
    "version": 3
   },
   "file_extension": ".py",
   "mimetype": "text/x-python",
   "name": "python",
   "nbconvert_exporter": "python",
   "pygments_lexer": "ipython3",
   "version": "3.5.4"
  }
 },
 "nbformat": 4,
 "nbformat_minor": 2
}
