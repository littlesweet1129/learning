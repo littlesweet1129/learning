{
 "cells": [
  {
   "cell_type": "markdown",
   "metadata": {},
   "source": [
    "## Anatomy of Neural Network"
   ]
  },
  {
   "cell_type": "markdown",
   "metadata": {},
   "source": [
    "training a neural network:\n",
    "* layers\n",
    "* input data dna targets\n",
    "* loss function\n",
    "* optimizer\n",
    "\n",
    "some layers are stateless, but more frequently layers have a state: the layer's weights. Different layers are appropriate for differnet tensor formats and different types of data processing. \n",
    "\n",
    "* 2D tensor(samples, features): often processed by densely connected layers(fully connected or dense layers) -> `Dense` class in keras\n",
    "* 3D tensor, sequence data(samples, timesteps, features): typically processed by recurrent layers such as an `LSTM` layer.\n",
    "* 4D tensor, image data: usually processed by a 2D convolution layer `Conv2D`\n",
    "\n",
    "Building deep-learning models in Keras is done by clipping together compatible layers to form useful data-transformation pipelines.\n",
    "\n",
    "* layer compatibility: every layer will only accespt input tensors of a certain shape and will return output tensors of a certain shape."
   ]
  },
  {
   "cell_type": "code",
   "execution_count": 1,
   "metadata": {},
   "outputs": [
    {
     "name": "stderr",
     "output_type": "stream",
     "text": [
      "/Users/teresazhang/anaconda3/lib/python3.6/site-packages/h5py/__init__.py:36: FutureWarning: Conversion of the second argument of issubdtype from `float` to `np.floating` is deprecated. In future, it will be treated as `np.float64 == np.dtype(float).type`.\n",
      "  from ._conv import register_converters as _register_converters\n",
      "Using TensorFlow backend.\n"
     ]
    }
   ],
   "source": [
    "from keras import layers"
   ]
  },
  {
   "cell_type": "code",
   "execution_count": 2,
   "metadata": {},
   "outputs": [],
   "source": [
    "layer = layers.Dense(32, input_shape=(784, ))"
   ]
  },
  {
   "cell_type": "markdown",
   "metadata": {},
   "source": [
    "a layer accepting only 2D tensor where first dimension is 784, and retuning a tensor where first dimension has been transformed to 32.\n",
    "\n",
    "Layers are dynamically built to match the shape of the incoming layer."
   ]
  },
  {
   "cell_type": "code",
   "execution_count": 3,
   "metadata": {},
   "outputs": [],
   "source": [
    "from keras import models\n",
    "from keras import layers"
   ]
  },
  {
   "cell_type": "code",
   "execution_count": 4,
   "metadata": {},
   "outputs": [],
   "source": [
    "model = models.Sequential()\n",
    "model.add(layers.Dense(32, input_shape = (784, )))\n",
    "model.add(layers.Dense(32))"
   ]
  },
  {
   "cell_type": "markdown",
   "metadata": {},
   "source": [
    "the second layer did not receive an input shape, but it automatically inferred its input shape as the being the output shape of the layer that came before."
   ]
  },
  {
   "cell_type": "markdown",
   "metadata": {},
   "source": [
    "A deep-learning model is a directed, acyclic graph of layers. A variaty of network topologies:\n",
    "* two-branch networks\n",
    "* multihead networks\n",
    "* inception blocks\n",
    "\n",
    "The topology of a network defines a hypothesis space. By choosing a network topology, you contrain your `space of possibilities` (hypothesis space) to a specific series of tensor operations. Then search for a good set of values for the weight tensors involved in these tensor operations."
   ]
  },
  {
   "cell_type": "markdown",
   "metadata": {},
   "source": [
    "Once the network architecture is defined, one still have to choose loss function and optimizer.\n",
    "\n",
    "A neural network that has multiple outputs may have multiple loss functions. But gradient-descent process must be based on a single scalar loss value, hence for multiloss networks, all lossed are combined into a single scalar quantity.\n",
    "\n",
    "Guidlines for loss choice:\n",
    "* binary classification: binary crossentropy\n",
    "* multiclass classification: categorical crossentropy\n",
    "* regression: mean squred error\n",
    "* sequence-learning: connectionist temporal classification\n",
    "\n",
    "Only when working on truly new research problem, will you have to develop your own objective function."
   ]
  },
  {
   "cell_type": "markdown",
   "metadata": {},
   "source": [
    "### Intro to Keras"
   ]
  },
  {
   "cell_type": "markdown",
   "metadata": {},
   "source": [
    "<img src = 'keras.png'>\n",
    "\n",
    "Typical Keras workflow:\n",
    "\n",
    "__1.__ Define input tensors and target tensors\n",
    "__2.__ Define a network of layers\n",
    "__3.__ Configure the learning process: loss function, optimizer, monitor metric\n",
    "__4.__ Iterate on training data by calling `fit()`\n",
    "\n",
    "Two ways to define a model:\n",
    "* using the `Sequential` \n",
    "    - only for linear stacks of layers\n",
    "    - most common network architecture by far\n",
    "* `functional API`\n",
    "    - for directed acyclic graphs of layers\n",
    "    - build completely arbitraty architecture"
   ]
  },
  {
   "cell_type": "markdown",
   "metadata": {},
   "source": [
    "Two layer model using `Sequential` class:"
   ]
  },
  {
   "cell_type": "code",
   "execution_count": 6,
   "metadata": {},
   "outputs": [],
   "source": [
    "from keras import models\n",
    "from keras import layers"
   ]
  },
  {
   "cell_type": "code",
   "execution_count": 7,
   "metadata": {},
   "outputs": [],
   "source": [
    "model = models.Sequential()\n",
    "model.add(layers.Dense(32, activation='relu', input_shape = (784, )))\n",
    "model.add(layers.Dense(10, activation='softmax'))"
   ]
  },
  {
   "cell_type": "markdown",
   "metadata": {},
   "source": [
    "Same model defined using the functional API:"
   ]
  },
  {
   "cell_type": "code",
   "execution_count": 9,
   "metadata": {},
   "outputs": [],
   "source": [
    "input_tensor = layers.Input(shape = (784, ))\n",
    "x = layers.Dense(32, activation='relu')(input_tensor)\n",
    "output_tensor = layers.Dense(10, activation='softmax')(x)\n",
    "model = models.Model(inputs = input_tensor, outputs = output_tensor)"
   ]
  },
  {
   "cell_type": "markdown",
   "metadata": {},
   "source": [
    "With the functional API, you are manipulating the data tensors that the model processes and applying layers to this tensor as if they are functions.\n",
    "\n",
    "Once model architecture is defined regardless which approach was used, the following is the same: compilation step, to specify the loss function, optimizer and metric to monitor during training."
   ]
  },
  {
   "cell_type": "code",
   "execution_count": 10,
   "metadata": {},
   "outputs": [],
   "source": [
    "from keras import optimizers"
   ]
  },
  {
   "cell_type": "code",
   "execution_count": 11,
   "metadata": {},
   "outputs": [],
   "source": [
    "model.compile(optimizer=optimizers.RMSprop(lr = 0.001),\n",
    "              loss = 'mse',\n",
    "              metric=['accuracy'])"
   ]
  },
  {
   "cell_type": "markdown",
   "metadata": {},
   "source": [
    "Finally, pass the Numpy arrays of input and target to the model via `fit()`."
   ]
  },
  {
   "cell_type": "code",
   "execution_count": 13,
   "metadata": {},
   "outputs": [],
   "source": [
    "#model.fit(input_tensor, target_tensor, batch_size=128, epochs=10)"
   ]
  },
  {
   "cell_type": "markdown",
   "metadata": {},
   "source": [
    "### Deep-learning workstation"
   ]
  },
  {
   "cell_type": "markdown",
   "metadata": {},
   "source": [
    "* recommend running deep-learning code on a modern NVIDIA GPU.\n",
    "    - image processing with CNN (slow on CPU)\n",
    "    - sequence processing with RNN (slow on CPU)\n",
    "    - GPU is 5-10 times faster to CPU"
   ]
  },
  {
   "cell_type": "code",
   "execution_count": null,
   "metadata": {},
   "outputs": [],
   "source": []
  }
 ],
 "metadata": {
  "kernelspec": {
   "display_name": "Python 3",
   "language": "python",
   "name": "python3"
  },
  "language_info": {
   "codemirror_mode": {
    "name": "ipython",
    "version": 3
   },
   "file_extension": ".py",
   "mimetype": "text/x-python",
   "name": "python",
   "nbconvert_exporter": "python",
   "pygments_lexer": "ipython3",
   "version": "3.6.5"
  }
 },
 "nbformat": 4,
 "nbformat_minor": 2
}
